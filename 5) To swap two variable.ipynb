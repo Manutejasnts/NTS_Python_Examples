{
 "cells": [
  {
   "cell_type": "markdown",
   "id": "aca9c898",
   "metadata": {},
   "source": [
    "# 1) To Swap Two Variable"
   ]
  },
  {
   "cell_type": "code",
   "execution_count": 2,
   "id": "3cfb03d7",
   "metadata": {},
   "outputs": [
    {
     "name": "stdout",
     "output_type": "stream",
     "text": [
      "Enter any thing for x:4\n",
      "Enter any thing for y:5\n",
      "x Value= 5 y Value= 4\n"
     ]
    }
   ],
   "source": [
    "x = input(\"Enter any thing for x:\")\n",
    "y = input(\"Enter any thing for y:\")\n",
    "temp = x\n",
    "x = y\n",
    "y=temp\n",
    "print(\"x Value=\",x,\"y Value=\",y)"
   ]
  },
  {
   "cell_type": "markdown",
   "id": "933cc4f8",
   "metadata": {},
   "source": [
    "# 2) Another way to  swap"
   ]
  },
  {
   "cell_type": "code",
   "execution_count": 3,
   "id": "ecc19f5a",
   "metadata": {},
   "outputs": [
    {
     "name": "stdout",
     "output_type": "stream",
     "text": [
      "Enter any thing for x:5\n",
      "Enter any thing for y:6\n",
      "x Value= 6 y Value= 5\n"
     ]
    }
   ],
   "source": [
    "x = input(\"Enter any thing for x:\")\n",
    "y = input(\"Enter any thing for y:\")\n",
    "x,y = y,x\n",
    "print(\"x Value=\",x,\"y Value=\",y)"
   ]
  },
  {
   "cell_type": "code",
   "execution_count": null,
   "id": "97f2222e",
   "metadata": {},
   "outputs": [],
   "source": []
  }
 ],
 "metadata": {
  "kernelspec": {
   "display_name": "Python 3",
   "language": "python",
   "name": "python3"
  },
  "language_info": {
   "codemirror_mode": {
    "name": "ipython",
    "version": 3
   },
   "file_extension": ".py",
   "mimetype": "text/x-python",
   "name": "python",
   "nbconvert_exporter": "python",
   "pygments_lexer": "ipython3",
   "version": "3.8.8"
  }
 },
 "nbformat": 4,
 "nbformat_minor": 5
}

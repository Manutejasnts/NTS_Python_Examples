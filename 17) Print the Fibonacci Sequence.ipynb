{
 "cells": [
  {
   "cell_type": "markdown",
   "id": "0343728c",
   "metadata": {},
   "source": [
    "# 17) Print the Fibonacci Sequence"
   ]
  },
  {
   "cell_type": "code",
   "execution_count": 8,
   "id": "5a7dcb1b",
   "metadata": {},
   "outputs": [
    {
     "name": "stdout",
     "output_type": "stream",
     "text": [
      "Enter the number of terms:20\n",
      "Fibonacci Sequence upto 20 are:\n",
      "0\n",
      "1\n",
      "1\n",
      "2\n",
      "3\n",
      "5\n",
      "8\n",
      "13\n",
      "21\n",
      "34\n",
      "55\n",
      "89\n",
      "144\n",
      "233\n",
      "377\n",
      "610\n",
      "987\n",
      "1597\n",
      "2584\n",
      "4181\n"
     ]
    }
   ],
   "source": [
    "a = int(input(\"Enter the number of terms:\"))\n",
    "if a<0:\n",
    "    print(\"Enter positive number\")\n",
    "else:\n",
    "    i=0\n",
    "    j=1\n",
    "    count=0\n",
    "    print(f\"Fibonacci Sequence upto {a} are:\")\n",
    "    while count<a:\n",
    "        print(i)\n",
    "        k=i+j\n",
    "        i=j\n",
    "        j=k\n",
    "        count+=1\n",
    "        \n",
    "   \n",
    "    "
   ]
  },
  {
   "cell_type": "code",
   "execution_count": null,
   "id": "60f1353b",
   "metadata": {},
   "outputs": [],
   "source": []
  }
 ],
 "metadata": {
  "kernelspec": {
   "display_name": "Python 3",
   "language": "python",
   "name": "python3"
  },
  "language_info": {
   "codemirror_mode": {
    "name": "ipython",
    "version": 3
   },
   "file_extension": ".py",
   "mimetype": "text/x-python",
   "name": "python",
   "nbconvert_exporter": "python",
   "pygments_lexer": "ipython3",
   "version": "3.8.8"
  }
 },
 "nbformat": 4,
 "nbformat_minor": 5
}

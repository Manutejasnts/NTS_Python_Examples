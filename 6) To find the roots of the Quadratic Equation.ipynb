{
 "cells": [
  {
   "cell_type": "markdown",
   "id": "fa95452d",
   "metadata": {},
   "source": [
    "# 1)To find the roots of the Quadratic Equation"
   ]
  },
  {
   "cell_type": "code",
   "execution_count": 2,
   "id": "846e013d",
   "metadata": {},
   "outputs": [
    {
     "name": "stdout",
     "output_type": "stream",
     "text": [
      "Enter the a value:1\n",
      "Enter the b value:5\n",
      "Enter the c value:6\n",
      "The Quadratic Equation roots are -3.0 and -2.0\n"
     ]
    }
   ],
   "source": [
    "a = int(input(\"Enter the a value:\"))\n",
    "b = int(input(\"Enter the b value:\"))\n",
    "c = int(input(\"Enter the c value:\"))\n",
    "if a==0:\n",
    "    print(\"It is not a Quadratic Equation\")\n",
    "else:\n",
    "    d = b**2-(4*a*c)\n",
    "    root1 = (-b-(d)**0.5)/(2*a)\n",
    "    root2 = (-b+(d)**0.5)/(2*a)\n",
    "    print(\"The Quadratic Equation roots are\",root1,\"and\",root2)"
   ]
  },
  {
   "cell_type": "markdown",
   "id": "eeea9dcc",
   "metadata": {},
   "source": [
    "# 2) Another method to find roots of Quadratic Equation"
   ]
  },
  {
   "cell_type": "code",
   "execution_count": 4,
   "id": "92a4408b",
   "metadata": {},
   "outputs": [
    {
     "name": "stdout",
     "output_type": "stream",
     "text": [
      "Enter the a value:1\n",
      "Enter the b value:5\n",
      "Enter the c value:6\n",
      "The Quadratic Equation roots are (-3+0j) and (-2+0j)\n"
     ]
    }
   ],
   "source": [
    "import cmath\n",
    "a = int(input(\"Enter the a value:\"))\n",
    "b = int(input(\"Enter the b value:\"))\n",
    "c = int(input(\"Enter the c value:\"))\n",
    "if a==0:\n",
    "    print(\"It is not a Quadratic Equation\")\n",
    "else:\n",
    "    d = b**2-(4*a*c)\n",
    "    root1 = (-b-cmath.sqrt(d))/(2*a)\n",
    "    root2 = (-b+cmath.sqrt(d))/(2*a)\n",
    "    print(\"The Quadratic Equation roots are\",root1,\"and\",root2)"
   ]
  },
  {
   "cell_type": "code",
   "execution_count": null,
   "id": "dea1e127",
   "metadata": {},
   "outputs": [],
   "source": []
  }
 ],
 "metadata": {
  "kernelspec": {
   "display_name": "Python 3",
   "language": "python",
   "name": "python3"
  },
  "language_info": {
   "codemirror_mode": {
    "name": "ipython",
    "version": 3
   },
   "file_extension": ".py",
   "mimetype": "text/x-python",
   "name": "python",
   "nbconvert_exporter": "python",
   "pygments_lexer": "ipython3",
   "version": "3.8.8"
  }
 },
 "nbformat": 4,
 "nbformat_minor": 5
}

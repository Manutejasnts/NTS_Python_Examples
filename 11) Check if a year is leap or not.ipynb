{
 "cells": [
  {
   "cell_type": "markdown",
   "id": "866ae63a",
   "metadata": {},
   "source": [
    "# Check if a Year is Leap or Not"
   ]
  },
  {
   "cell_type": "code",
   "execution_count": 1,
   "id": "31d64cf3",
   "metadata": {},
   "outputs": [
    {
     "name": "stdout",
     "output_type": "stream",
     "text": [
      "Enter any year to check wheather it is leap year or not:2012\n",
      "2012 is a leap year.\n"
     ]
    }
   ],
   "source": [
    "a = int(input(\"Enter any year to check wheather it is leap year or not:\"))\n",
    "if a%4==0:\n",
    "    if a%100==0:\n",
    "        if a%400==0:\n",
    "            print(f\"{a} is a leap year.\")\n",
    "        else:\n",
    "            print(f\"{a} is not a leap year.\")\n",
    "    else:\n",
    "        print(f\"{a} is a leap year.\")\n",
    "else:\n",
    "    print(f\"{a} is not aleap year.\")"
   ]
  },
  {
   "cell_type": "code",
   "execution_count": null,
   "id": "ba27a976",
   "metadata": {},
   "outputs": [],
   "source": []
  }
 ],
 "metadata": {
  "kernelspec": {
   "display_name": "Python 3",
   "language": "python",
   "name": "python3"
  },
  "language_info": {
   "codemirror_mode": {
    "name": "ipython",
    "version": 3
   },
   "file_extension": ".py",
   "mimetype": "text/x-python",
   "name": "python",
   "nbconvert_exporter": "python",
   "pygments_lexer": "ipython3",
   "version": "3.8.8"
  }
 },
 "nbformat": 4,
 "nbformat_minor": 5
}

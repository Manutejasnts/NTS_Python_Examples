{
 "cells": [
  {
   "cell_type": "markdown",
   "id": "2b16213a",
   "metadata": {},
   "source": [
    "# Check if a number is postive or negative or 0"
   ]
  },
  {
   "cell_type": "code",
   "execution_count": 6,
   "id": "2bc83ade",
   "metadata": {},
   "outputs": [
    {
     "name": "stdout",
     "output_type": "stream",
     "text": [
      "Enter any number:5\n",
      "The number  5.0 is positive.\n"
     ]
    }
   ],
   "source": [
    "a = float(input(\"Enter any number:\"))\n",
    "if a>0:\n",
    "    print(\"The number \",a,\"is positive.\")\n",
    "elif a==0:\n",
    "    print(\"The number\",a,\" is Zero\")\n",
    "else:\n",
    "    print(\"The number\",a,\" is Negative\")"
   ]
  },
  {
   "cell_type": "markdown",
   "id": "39f48481",
   "metadata": {},
   "source": [
    "                (or)"
   ]
  },
  {
   "cell_type": "code",
   "execution_count": null,
   "id": "f53e38f8",
   "metadata": {},
   "outputs": [],
   "source": [
    "a = float(input(\"Enter any number:\"))\n",
    "if a>0:\n",
    "    if a==0:\n",
    "        print(\"Number is \")"
   ]
  }
 ],
 "metadata": {
  "kernelspec": {
   "display_name": "Python 3",
   "language": "python",
   "name": "python3"
  },
  "language_info": {
   "codemirror_mode": {
    "name": "ipython",
    "version": 3
   },
   "file_extension": ".py",
   "mimetype": "text/x-python",
   "name": "python",
   "nbconvert_exporter": "python",
   "pygments_lexer": "ipython3",
   "version": "3.8.8"
  }
 },
 "nbformat": 4,
 "nbformat_minor": 5
}

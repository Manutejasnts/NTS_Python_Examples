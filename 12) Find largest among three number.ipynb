{
 "cells": [
  {
   "cell_type": "markdown",
   "id": "6492629f",
   "metadata": {},
   "source": [
    "# Find the largest among three number"
   ]
  },
  {
   "cell_type": "code",
   "execution_count": 1,
   "id": "c6a1fa51",
   "metadata": {},
   "outputs": [
    {
     "name": "stdout",
     "output_type": "stream",
     "text": [
      "Enter your First number:1\n",
      "Enter your Second number:2\n",
      "Enter your Third number:3\n",
      "The largest number among 1,2,3 is 3\n"
     ]
    }
   ],
   "source": [
    "a = int(input(\"Enter your First number:\"))\n",
    "b = int(input(\"Enter your Second number:\"))\n",
    "c = int(input(\"Enter your Third number:\"))\n",
    "if a>=b and a>=c:\n",
    "    largest = a\n",
    "elif b>=a and b>=c:\n",
    "    largest = b\n",
    "else:\n",
    "    largest = c\n",
    "print(f\"The largest number among {a},{b},{c} is {largest}\")"
   ]
  },
  {
   "cell_type": "code",
   "execution_count": null,
   "id": "51b0be21",
   "metadata": {},
   "outputs": [],
   "source": []
  }
 ],
 "metadata": {
  "kernelspec": {
   "display_name": "Python 3",
   "language": "python",
   "name": "python3"
  },
  "language_info": {
   "codemirror_mode": {
    "name": "ipython",
    "version": 3
   },
   "file_extension": ".py",
   "mimetype": "text/x-python",
   "name": "python",
   "nbconvert_exporter": "python",
   "pygments_lexer": "ipython3",
   "version": "3.8.8"
  }
 },
 "nbformat": 4,
 "nbformat_minor": 5
}

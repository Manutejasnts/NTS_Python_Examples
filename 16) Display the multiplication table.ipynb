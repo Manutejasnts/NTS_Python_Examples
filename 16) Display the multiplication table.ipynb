{
 "cells": [
  {
   "cell_type": "markdown",
   "id": "62a98077",
   "metadata": {},
   "source": [
    "# 16) Display the multiplication table"
   ]
  },
  {
   "cell_type": "code",
   "execution_count": 2,
   "id": "b01374c8",
   "metadata": {},
   "outputs": [
    {
     "name": "stdout",
     "output_type": "stream",
     "text": [
      "Enter the Number to find it's multiplication table:11\n",
      "Enter the range of the multiplication table:20\n",
      "11 X 1 = 11\n",
      "11 X 2 = 22\n",
      "11 X 3 = 33\n",
      "11 X 4 = 44\n",
      "11 X 5 = 55\n",
      "11 X 6 = 66\n",
      "11 X 7 = 77\n",
      "11 X 8 = 88\n",
      "11 X 9 = 99\n",
      "11 X 10 = 110\n",
      "11 X 11 = 121\n",
      "11 X 12 = 132\n",
      "11 X 13 = 143\n",
      "11 X 14 = 154\n",
      "11 X 15 = 165\n",
      "11 X 16 = 176\n",
      "11 X 17 = 187\n",
      "11 X 18 = 198\n",
      "11 X 19 = 209\n",
      "11 X 20 = 220\n"
     ]
    }
   ],
   "source": [
    "a = int(input(\"Enter the Number to find it's multiplication table:\"))\n",
    "b = int(input(\"Enter the range of the multiplication table:\"))\n",
    "for i in range(1,b+1):\n",
    "    print(f\"{a} X {i} = {a*i}\")"
   ]
  },
  {
   "cell_type": "code",
   "execution_count": null,
   "id": "2f5223d5",
   "metadata": {},
   "outputs": [],
   "source": []
  }
 ],
 "metadata": {
  "kernelspec": {
   "display_name": "Python 3",
   "language": "python",
   "name": "python3"
  },
  "language_info": {
   "codemirror_mode": {
    "name": "ipython",
    "version": 3
   },
   "file_extension": ".py",
   "mimetype": "text/x-python",
   "name": "python",
   "nbconvert_exporter": "python",
   "pygments_lexer": "ipython3",
   "version": "3.8.8"
  }
 },
 "nbformat": 4,
 "nbformat_minor": 5
}

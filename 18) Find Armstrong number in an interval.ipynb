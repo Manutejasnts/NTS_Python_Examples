{
 "cells": [
  {
   "cell_type": "markdown",
   "id": "c7183a80",
   "metadata": {},
   "source": [
    "# 18) Find Arnstrong number in an interval"
   ]
  },
  {
   "cell_type": "code",
   "execution_count": 19,
   "id": "f3c98d7e",
   "metadata": {},
   "outputs": [
    {
     "name": "stdout",
     "output_type": "stream",
     "text": [
      "Enter the upper limit:100\n",
      "Enter the lower limit:2000\n",
      "153\n",
      "370\n",
      "371\n",
      "407\n",
      "1634\n"
     ]
    }
   ],
   "source": [
    "a = int(input(\"Enter the upper limit:\"))\n",
    "b = int(input(\"Enter the lower limit:\"))\n",
    "for i in range(a,b+1):\n",
    "    n = len(str(i))\n",
    "    nts = i\n",
    "    sum=0\n",
    "    while (nts>0):\n",
    "        digit = nts%10\n",
    "        sum = sum + (digit**n)\n",
    "        nts= nts//10\n",
    "    if (sum == i ):\n",
    "        print(i)"
   ]
  },
  {
   "cell_type": "code",
   "execution_count": null,
   "id": "d845fa93",
   "metadata": {},
   "outputs": [],
   "source": []
  }
 ],
 "metadata": {
  "kernelspec": {
   "display_name": "Python 3",
   "language": "python",
   "name": "python3"
  },
  "language_info": {
   "codemirror_mode": {
    "name": "ipython",
    "version": 3
   },
   "file_extension": ".py",
   "mimetype": "text/x-python",
   "name": "python",
   "nbconvert_exporter": "python",
   "pygments_lexer": "ipython3",
   "version": "3.8.8"
  }
 },
 "nbformat": 4,
 "nbformat_minor": 5
}

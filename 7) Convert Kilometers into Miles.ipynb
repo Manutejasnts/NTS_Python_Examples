{
 "cells": [
  {
   "cell_type": "markdown",
   "id": "27ec7ba6",
   "metadata": {},
   "source": [
    "# 1) Convert Kilometers into Miles"
   ]
  },
  {
   "cell_type": "code",
   "execution_count": 8,
   "id": "8746a79d",
   "metadata": {},
   "outputs": [
    {
     "name": "stdout",
     "output_type": "stream",
     "text": [
      "Enter the Value in kilometer to convert it into miles:5.5\n",
      "The value in miles is 3.4175405\n"
     ]
    }
   ],
   "source": [
    "kilo = float(input(\"Enter the Value in kilometer to convert it into miles:\"))\n",
    "miles = kilo*0.621371\n",
    "print(\"The value in miles is\", miles)"
   ]
  },
  {
   "cell_type": "code",
   "execution_count": null,
   "id": "0add5d2a",
   "metadata": {},
   "outputs": [],
   "source": []
  }
 ],
 "metadata": {
  "kernelspec": {
   "display_name": "Python 3",
   "language": "python",
   "name": "python3"
  },
  "language_info": {
   "codemirror_mode": {
    "name": "ipython",
    "version": 3
   },
   "file_extension": ".py",
   "mimetype": "text/x-python",
   "name": "python",
   "nbconvert_exporter": "python",
   "pygments_lexer": "ipython3",
   "version": "3.8.8"
  }
 },
 "nbformat": 4,
 "nbformat_minor": 5
}

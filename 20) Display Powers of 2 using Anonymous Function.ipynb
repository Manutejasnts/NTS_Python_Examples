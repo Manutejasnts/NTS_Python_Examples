{
 "cells": [
  {
   "cell_type": "markdown",
   "id": "abd7fa02",
   "metadata": {},
   "source": [
    "# 20) Display Powers of 2 using Anonymous Function"
   ]
  },
  {
   "cell_type": "code",
   "execution_count": 21,
   "id": "0906b94c",
   "metadata": {},
   "outputs": [
    {
     "name": "stdout",
     "output_type": "stream",
     "text": [
      "Enter the number of terms:10\n",
      "The 2**0 is:1\n",
      "The 2**1 is:2\n",
      "The 2**2 is:4\n",
      "The 2**3 is:8\n",
      "The 2**4 is:16\n",
      "The 2**5 is:32\n",
      "The 2**6 is:64\n",
      "The 2**7 is:128\n",
      "The 2**8 is:256\n",
      "The 2**9 is:512\n"
     ]
    }
   ],
   "source": [
    "a = int(input(\"Enter the number of terms:\"))\n",
    "result = list(map(lambda x:2**x,range(0,a)))\n",
    "for i in range(0,a):\n",
    "    print(f\"The 2**{i} is:{result[i]}\")"
   ]
  },
  {
   "cell_type": "code",
   "execution_count": null,
   "id": "eeeb30ad",
   "metadata": {},
   "outputs": [],
   "source": []
  }
 ],
 "metadata": {
  "kernelspec": {
   "display_name": "Python 3",
   "language": "python",
   "name": "python3"
  },
  "language_info": {
   "codemirror_mode": {
    "name": "ipython",
    "version": 3
   },
   "file_extension": ".py",
   "mimetype": "text/x-python",
   "name": "python",
   "nbconvert_exporter": "python",
   "pygments_lexer": "ipython3",
   "version": "3.8.8"
  }
 },
 "nbformat": 4,
 "nbformat_minor": 5
}

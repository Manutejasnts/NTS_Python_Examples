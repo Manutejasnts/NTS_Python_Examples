{
 "cells": [
  {
   "cell_type": "markdown",
   "id": "c669affe",
   "metadata": {},
   "source": [
    "# 1) To find the square root "
   ]
  },
  {
   "cell_type": "code",
   "execution_count": 2,
   "id": "5b9e5d5d",
   "metadata": {},
   "outputs": [
    {
     "name": "stdout",
     "output_type": "stream",
     "text": [
      "Enter the number to find it's square root:4\n",
      "2.0\n"
     ]
    }
   ],
   "source": [
    "a = int(input(\"Enter the number to find it's square root:\"))\n",
    "sq = a**0.5\n",
    "print(sq)"
   ]
  },
  {
   "cell_type": "markdown",
   "id": "f9bf3c0e",
   "metadata": {},
   "source": [
    "# 2) To find the square root of the complex number"
   ]
  },
  {
   "cell_type": "code",
   "execution_count": 3,
   "id": "3105fb81",
   "metadata": {},
   "outputs": [
    {
     "name": "stdout",
     "output_type": "stream",
     "text": [
      "Square Root of the (64-64j) is (8.78947290774248-3.6407188844978187j)\n"
     ]
    }
   ],
   "source": [
    "import cmath\n",
    "a = 64-64j\n",
    "sq = cmath.sqrt(a)\n",
    "print(\"Square Root of the\",a,\"is\",sq)"
   ]
  },
  {
   "cell_type": "code",
   "execution_count": null,
   "id": "dec6ae3c",
   "metadata": {},
   "outputs": [],
   "source": []
  }
 ],
 "metadata": {
  "kernelspec": {
   "display_name": "Python 3",
   "language": "python",
   "name": "python3"
  },
  "language_info": {
   "codemirror_mode": {
    "name": "ipython",
    "version": 3
   },
   "file_extension": ".py",
   "mimetype": "text/x-python",
   "name": "python",
   "nbconvert_exporter": "python",
   "pygments_lexer": "ipython3",
   "version": "3.8.8"
  }
 },
 "nbformat": 4,
 "nbformat_minor": 5
}

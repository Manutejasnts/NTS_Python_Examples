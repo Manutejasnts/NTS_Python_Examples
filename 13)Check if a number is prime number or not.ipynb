{
 "cells": [
  {
   "cell_type": "markdown",
   "id": "37a13137",
   "metadata": {},
   "source": [
    "# Check if a number is prime number or not"
   ]
  },
  {
   "cell_type": "code",
   "execution_count": 14,
   "id": "27514cc3",
   "metadata": {},
   "outputs": [
    {
     "name": "stdout",
     "output_type": "stream",
     "text": [
      "Enter the number to check it is prime or not:49\n",
      "49 is not a prime\n",
      "49 is divisible by 7\n"
     ]
    }
   ],
   "source": [
    "num = int(input(\"Enter the number to check it is prime or not:\"))\n",
    "if num>1:\n",
    "    for i in range(2,num):\n",
    "        if num%i==0:\n",
    "            print(f\"{num} is not a prime\")\n",
    "            print(f\"{num} is divisible by {i}\")\n",
    "            break\n",
    "    else:\n",
    "        print(f\"{num} is a prime number\")\n",
    "else:\n",
    "    print(f\"{num} is not a prime number\")"
   ]
  },
  {
   "cell_type": "markdown",
   "id": "c40ac4cf",
   "metadata": {},
   "source": [
    "#          (OR)"
   ]
  },
  {
   "cell_type": "code",
   "execution_count": 18,
   "id": "944dbae3",
   "metadata": {},
   "outputs": [
    {
     "name": "stdout",
     "output_type": "stream",
     "text": [
      "Enter the number to check it is prime or not:91\n",
      "91 is not a prime number\n",
      "7 times 13 is 91\n"
     ]
    }
   ],
   "source": [
    "num = int(input(\"Enter the number to check it is prime or not:\"))\n",
    "if num>1:\n",
    "    for i in range(2,num):\n",
    "        if num%i==0:\n",
    "            print(f\"{num} is not a prime number\")\n",
    "            print(f\"{i} times {num//i} is {num}\")\n",
    "            break\n",
    "    else:\n",
    "        print(f\"{num} is a prime number\")\n",
    "else:\n",
    "    print(f\"{num} is not a prime number\")\n",
    "            "
   ]
  },
  {
   "cell_type": "markdown",
   "id": "483c6fe6",
   "metadata": {},
   "source": [
    "#              (OR)"
   ]
  },
  {
   "cell_type": "code",
   "execution_count": 20,
   "id": "b076f5bb",
   "metadata": {},
   "outputs": [
    {
     "name": "stdout",
     "output_type": "stream",
     "text": [
      "Enter the number to check it is prime or not:19\n",
      "19 is a prime number\n"
     ]
    }
   ],
   "source": [
    "import math\n",
    "num = int(input(\"Enter the number to check it is prime or not:\"))\n",
    "if num>1:\n",
    "    for i in range(2,math.ceil(num/2)):                             # To reduce runtime\n",
    "        if num%2==0:\n",
    "            print(f\"{num} is not a prime number\")\n",
    "            print(f\"{i} times {num//i} is {num}\")\n",
    "            break\n",
    "    else:\n",
    "        print(f\"{num} is a prime number\")\n",
    "else:\n",
    "    print(f\"{num} is not a prime number\")"
   ]
  },
  {
   "cell_type": "code",
   "execution_count": null,
   "id": "6e20e2ee",
   "metadata": {},
   "outputs": [],
   "source": []
  }
 ],
 "metadata": {
  "kernelspec": {
   "display_name": "Python 3",
   "language": "python",
   "name": "python3"
  },
  "language_info": {
   "codemirror_mode": {
    "name": "ipython",
    "version": 3
   },
   "file_extension": ".py",
   "mimetype": "text/x-python",
   "name": "python",
   "nbconvert_exporter": "python",
   "pygments_lexer": "ipython3",
   "version": "3.8.8"
  }
 },
 "nbformat": 4,
 "nbformat_minor": 5
}

{
 "cells": [
  {
   "cell_type": "markdown",
   "id": "967db5dc",
   "metadata": {},
   "source": [
    "# Check if a number is odd or even"
   ]
  },
  {
   "cell_type": "code",
   "execution_count": 1,
   "id": "5f441407",
   "metadata": {},
   "outputs": [
    {
     "name": "stdout",
     "output_type": "stream",
     "text": [
      "Enter any number greater then zero:5\n",
      "5 is Odd number\n"
     ]
    }
   ],
   "source": [
    "a = int(input(\"Enter any number greater then zero:\"))\n",
    "if a%2==0:\n",
    "    print(f\"{a} is Even number\")\n",
    "else:\n",
    "    print(f\"{a} is Odd number\")"
   ]
  },
  {
   "cell_type": "code",
   "execution_count": null,
   "id": "7870a2a7",
   "metadata": {},
   "outputs": [],
   "source": []
  }
 ],
 "metadata": {
  "kernelspec": {
   "display_name": "Python 3",
   "language": "python",
   "name": "python3"
  },
  "language_info": {
   "codemirror_mode": {
    "name": "ipython",
    "version": 3
   },
   "file_extension": ".py",
   "mimetype": "text/x-python",
   "name": "python",
   "nbconvert_exporter": "python",
   "pygments_lexer": "ipython3",
   "version": "3.8.8"
  }
 },
 "nbformat": 4,
 "nbformat_minor": 5
}

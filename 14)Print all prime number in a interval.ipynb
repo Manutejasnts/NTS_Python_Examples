{
 "cells": [
  {
   "cell_type": "markdown",
   "id": "ddee740d",
   "metadata": {},
   "source": [
    "# 14)Print all prime number in a interval"
   ]
  },
  {
   "cell_type": "code",
   "execution_count": null,
   "id": "981f0ca2",
   "metadata": {},
   "outputs": [],
   "source": [
    "a = int(input(\"Enter the lower range:\"))\n",
    "b = int(input(\"Enter the upper range:\"))\n",
    "for i in range(a,b+1):\n",
    "    if i>1:\n",
    "        for j in range(2,i):\n",
    "            if i%j==0:\n",
    "                break\n",
    "        else:\n",
    "            print(f\"{i} is a prime number\")"
   ]
  },
  {
   "cell_type": "code",
   "execution_count": null,
   "id": "e2b8d121",
   "metadata": {},
   "outputs": [],
   "source": []
  }
 ],
 "metadata": {
  "kernelspec": {
   "display_name": "Python 3",
   "language": "python",
   "name": "python3"
  },
  "language_info": {
   "codemirror_mode": {
    "name": "ipython",
    "version": 3
   },
   "file_extension": ".py",
   "mimetype": "text/x-python",
   "name": "python",
   "nbconvert_exporter": "python",
   "pygments_lexer": "ipython3",
   "version": "3.8.8"
  }
 },
 "nbformat": 4,
 "nbformat_minor": 5
}

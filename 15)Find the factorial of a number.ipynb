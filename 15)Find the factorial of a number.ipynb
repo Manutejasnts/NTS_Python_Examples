{
 "cells": [
  {
   "cell_type": "markdown",
   "id": "8705936f",
   "metadata": {},
   "source": [
    "# 15)Find the factorial of a number"
   ]
  },
  {
   "cell_type": "code",
   "execution_count": 3,
   "id": "afd06ab9",
   "metadata": {},
   "outputs": [
    {
     "name": "stdout",
     "output_type": "stream",
     "text": [
      "Enter the number to find it's factorial:7\n",
      "Factorial of number 7 is 5040\n"
     ]
    }
   ],
   "source": [
    "a = int(input(\"Enter the number to find it's factorial:\"))\n",
    "fact=1\n",
    "if a<0:\n",
    "    print(f\"{a} for this number less then 0 factorial does not exist\")\n",
    "elif a==0:\n",
    "    print(f\"Factorial of '0' is always '1'\")\n",
    "else:\n",
    "    for i in range(1,a+1):\n",
    "        fact = fact*i\n",
    "    print(f\"Factorial of number {a} is {fact}\")\n",
    "    "
   ]
  },
  {
   "cell_type": "code",
   "execution_count": null,
   "id": "549e6851",
   "metadata": {},
   "outputs": [],
   "source": []
  }
 ],
 "metadata": {
  "kernelspec": {
   "display_name": "Python 3",
   "language": "python",
   "name": "python3"
  },
  "language_info": {
   "codemirror_mode": {
    "name": "ipython",
    "version": 3
   },
   "file_extension": ".py",
   "mimetype": "text/x-python",
   "name": "python",
   "nbconvert_exporter": "python",
   "pygments_lexer": "ipython3",
   "version": "3.8.8"
  }
 },
 "nbformat": 4,
 "nbformat_minor": 5
}

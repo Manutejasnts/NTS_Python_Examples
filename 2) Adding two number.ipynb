{
 "cells": [
  {
   "cell_type": "markdown",
   "id": "9f7f6338",
   "metadata": {},
   "source": [
    "# 1) To add two number"
   ]
  },
  {
   "cell_type": "code",
   "execution_count": 2,
   "id": "0e18c103",
   "metadata": {},
   "outputs": [
    {
     "name": "stdout",
     "output_type": "stream",
     "text": [
      "30 + 20 = 50\n"
     ]
    }
   ],
   "source": [
    "a = 30\n",
    "b = 20\n",
    "sum = a+b\n",
    "print(a,\"+\",b,\"=\",sum)"
   ]
  },
  {
   "cell_type": "markdown",
   "id": "9295cc43",
   "metadata": {},
   "source": [
    "# 2) To add number by using user input data(Integer)"
   ]
  },
  {
   "cell_type": "code",
   "execution_count": 9,
   "id": "d612d177",
   "metadata": {},
   "outputs": [
    {
     "name": "stdout",
     "output_type": "stream",
     "text": [
      "Enter the value of a:45\n",
      "Enter the value of b:45\n",
      "45 + 45 = 90\n"
     ]
    }
   ],
   "source": [
    "a = int(input(\"Enter the value of a:\"))\n",
    "b = int(input(\"Enter the value of b:\"))\n",
    "sum = a+b\n",
    "print(a,\"+\",b,\"=\",sum)"
   ]
  },
  {
   "cell_type": "markdown",
   "id": "7f65b930",
   "metadata": {},
   "source": [
    "# 3) To add number byusing user input data(Float)"
   ]
  },
  {
   "cell_type": "code",
   "execution_count": 10,
   "id": "a1bca9bd",
   "metadata": {},
   "outputs": [
    {
     "name": "stdout",
     "output_type": "stream",
     "text": [
      "Enter the value of a:45.6\n",
      "Enter the value of b:34.5\n",
      "45.6 + 34.5 = 80.1\n"
     ]
    }
   ],
   "source": [
    "a = float(input(\"Enter the value of a:\"))\n",
    "b = float(input(\"Enter the value of b:\"))\n",
    "sum = a+b\n",
    "print(a,\"+\",b , \"=\",sum)"
   ]
  },
  {
   "cell_type": "code",
   "execution_count": null,
   "id": "546515c4",
   "metadata": {},
   "outputs": [],
   "source": []
  }
 ],
 "metadata": {
  "kernelspec": {
   "display_name": "Python 3",
   "language": "python",
   "name": "python3"
  },
  "language_info": {
   "codemirror_mode": {
    "name": "ipython",
    "version": 3
   },
   "file_extension": ".py",
   "mimetype": "text/x-python",
   "name": "python",
   "nbconvert_exporter": "python",
   "pygments_lexer": "ipython3",
   "version": "3.8.8"
  }
 },
 "nbformat": 4,
 "nbformat_minor": 5
}

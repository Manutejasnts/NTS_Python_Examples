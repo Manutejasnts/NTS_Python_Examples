{
 "cells": [
  {
   "cell_type": "markdown",
   "id": "eeddc64c",
   "metadata": {},
   "source": [
    "# 19) Find the sum of natural number"
   ]
  },
  {
   "cell_type": "code",
   "execution_count": 12,
   "id": "a0cc99fc",
   "metadata": {},
   "outputs": [
    {
     "name": "stdout",
     "output_type": "stream",
     "text": [
      "Enter +ve digit to find sum of n natural number required:-374745\n",
      "Enter Positive integer only\n"
     ]
    }
   ],
   "source": [
    "a = int(input(\"Enter +ve digit to find sum of n natural number required:\"))\n",
    "sum=0\n",
    "i = a\n",
    "if a<0:\n",
    "    print(\"Enter Positive integer only\")\n",
    "else:\n",
    "    while (a>0):\n",
    "        sum +=a\n",
    "        a-=1\n",
    "    print(f\"Sum of {i} natural number is:{sum}\")"
   ]
  },
  {
   "cell_type": "markdown",
   "id": "a1907d45",
   "metadata": {},
   "source": [
    "#             (OR)"
   ]
  },
  {
   "cell_type": "code",
   "execution_count": 9,
   "id": "d650e7f6",
   "metadata": {},
   "outputs": [
    {
     "name": "stdout",
     "output_type": "stream",
     "text": [
      "Enter the number of terms to find the value of n natural number: En\n"
     ]
    },
    {
     "ename": "ValueError",
     "evalue": "invalid literal for int() with base 10: 'En'",
     "output_type": "error",
     "traceback": [
      "\u001b[1;31m---------------------------------------------------------------------------\u001b[0m",
      "\u001b[1;31mValueError\u001b[0m                                Traceback (most recent call last)",
      "\u001b[1;32m<ipython-input-9-0976c87cc926>\u001b[0m in \u001b[0;36m<module>\u001b[1;34m\u001b[0m\n\u001b[1;32m----> 1\u001b[1;33m \u001b[0ma\u001b[0m \u001b[1;33m=\u001b[0m \u001b[0mint\u001b[0m\u001b[1;33m(\u001b[0m\u001b[0minput\u001b[0m\u001b[1;33m(\u001b[0m\u001b[1;34m\"Enter the number of terms to find the value of n natural number: \"\u001b[0m\u001b[1;33m)\u001b[0m\u001b[1;33m)\u001b[0m\u001b[1;33m\u001b[0m\u001b[1;33m\u001b[0m\u001b[0m\n\u001b[0m\u001b[0;32m      2\u001b[0m \u001b[1;32mif\u001b[0m \u001b[0ma\u001b[0m\u001b[1;33m<\u001b[0m\u001b[1;36m0\u001b[0m\u001b[1;33m:\u001b[0m\u001b[1;33m\u001b[0m\u001b[1;33m\u001b[0m\u001b[0m\n\u001b[0;32m      3\u001b[0m     \u001b[0mprint\u001b[0m\u001b[1;33m(\u001b[0m\u001b[1;34m\"\"\u001b[0m\u001b[1;33m)\u001b[0m\u001b[1;33m\u001b[0m\u001b[1;33m\u001b[0m\u001b[0m\n",
      "\u001b[1;31mValueError\u001b[0m: invalid literal for int() with base 10: 'En'"
     ]
    }
   ],
   "source": [
    "a = int(input(\"Enter the number of terms to find the value of n natural number: \"))\n",
    "if a<0:\n",
    "    print(\"Enter any positive number only\")\n",
    "else:\n",
    "    sum = ((a+1)*a)/2\n",
    "print()"
   ]
  },
  {
   "cell_type": "code",
   "execution_count": null,
   "id": "faceb20e",
   "metadata": {},
   "outputs": [],
   "source": []
  }
 ],
 "metadata": {
  "kernelspec": {
   "display_name": "Python 3",
   "language": "python",
   "name": "python3"
  },
  "language_info": {
   "codemirror_mode": {
    "name": "ipython",
    "version": 3
   },
   "file_extension": ".py",
   "mimetype": "text/x-python",
   "name": "python",
   "nbconvert_exporter": "python",
   "pygments_lexer": "ipython3",
   "version": "3.8.8"
  }
 },
 "nbformat": 4,
 "nbformat_minor": 5
}

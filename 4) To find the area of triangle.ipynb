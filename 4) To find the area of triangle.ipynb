{
 "cells": [
  {
   "cell_type": "markdown",
   "id": "c9025f47",
   "metadata": {},
   "source": [
    "# 1) To find the area of the triangle"
   ]
  },
  {
   "cell_type": "code",
   "execution_count": 1,
   "id": "03c800f8",
   "metadata": {},
   "outputs": [
    {
     "name": "stdout",
     "output_type": "stream",
     "text": [
      "Enter the first side of the triangle:3\n",
      "Enter the second side of the triangle:5\n",
      "Enter the third side of the triangle:4\n",
      "The Area of the triangle is 6.0\n"
     ]
    }
   ],
   "source": [
    "a = float(input(\"Enter the first side of the triangle:\"))\n",
    "b = float(input(\"Enter the second side of the triangle:\"))\n",
    "c = float(input(\"Enter the third side of the triangle:\"))\n",
    "s = (a+b+c)/2\n",
    "area = (s*(s-a)*(s-b)*(s-c))**0.5\n",
    "print(\"The Area of the triangle is\",area)"
   ]
  },
  {
   "cell_type": "code",
   "execution_count": null,
   "id": "7e3b6e79",
   "metadata": {},
   "outputs": [],
   "source": []
  }
 ],
 "metadata": {
  "kernelspec": {
   "display_name": "Python 3",
   "language": "python",
   "name": "python3"
  },
  "language_info": {
   "codemirror_mode": {
    "name": "ipython",
    "version": 3
   },
   "file_extension": ".py",
   "mimetype": "text/x-python",
   "name": "python",
   "nbconvert_exporter": "python",
   "pygments_lexer": "ipython3",
   "version": "3.8.8"
  }
 },
 "nbformat": 4,
 "nbformat_minor": 5
}
